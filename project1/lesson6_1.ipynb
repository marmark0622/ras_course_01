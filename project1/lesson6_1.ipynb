{
 "cells": [
  {
   "cell_type": "code",
   "execution_count": null,
   "metadata": {},
   "outputs": [],
   "source": [
    "import requests\n",
    "url = \"https://maker.ifttt.com/trigger/receive_notify/with/key/bQZn-PHxrU3iYgaK89hqMv\"\n",
    "\n",
    "requests.request(\"POST\", url)"
   ]
  }
 ],
 "metadata": {
  "language_info": {
   "name": "python"
  }
 },
 "nbformat": 4,
 "nbformat_minor": 2
}
